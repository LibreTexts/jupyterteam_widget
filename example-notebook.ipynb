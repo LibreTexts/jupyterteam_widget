{
 "cells": [
  {
   "cell_type": "code",
   "execution_count": 12,
   "id": "fc2324c1",
   "metadata": {},
   "outputs": [],
   "source": [
    "import jupyterteam_widget"
   ]
  },
  {
   "cell_type": "code",
   "execution_count": 13,
   "id": "58a14399",
   "metadata": {},
   "outputs": [
    {
     "data": {
      "application/vnd.jupyter.widget-view+json": {
       "model_id": "9c656da7a78d4d938108425247d64706",
       "version_major": 2,
       "version_minor": 0
      },
      "text/plain": [
       "HermiteWidget(value=4)"
      ]
     },
     "metadata": {},
     "output_type": "display_data"
    }
   ],
   "source": [
    "jupyterteam_widget.HermiteWidget()"
   ]
  },
  {
   "cell_type": "code",
   "execution_count": null,
   "id": "3f12099d",
   "metadata": {},
   "outputs": [],
   "source": []
  }
 ],
 "metadata": {
  "kernelspec": {
   "display_name": "Python 3",
   "language": "python",
   "name": "python3"
  },
  "language_info": {
   "codemirror_mode": {
    "name": "ipython",
    "version": 3
   },
   "file_extension": ".py",
   "mimetype": "text/x-python",
   "name": "python",
   "nbconvert_exporter": "python",
   "pygments_lexer": "ipython3",
   "version": "3.9.1"
  }
 },
 "nbformat": 4,
 "nbformat_minor": 5
}
