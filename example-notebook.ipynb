{
 "cells": [
  {
   "cell_type": "code",
   "execution_count": 12,
   "id": "fc2324c1",
   "metadata": {},
   "outputs": [],
   "source": [
    "import jupyterteam_widget"
   ]
  },
  {
   "cell_type": "code",
   "execution_count": 13,
   "id": "39685eb9",
   "metadata": {
    "scrolled": true
   },
   "outputs": [
    {
     "data": {
      "application/vnd.jupyter.widget-view+json": {
       "model_id": "b892d376c1cc4dd38d153a4c1abfaa44",
       "version_major": 2,
       "version_minor": 0
      },
      "text/plain": [
       "HermiteWidget(value=-1)"
      ]
     },
     "metadata": {},
     "output_type": "display_data"
    }
   ],
   "source": [
    "w = jupyterteam_widget.HermiteWidget()\n",
    "w"
   ]
  },
  {
   "cell_type": "code",
   "execution_count": null,
   "id": "03ff17a4",
   "metadata": {},
   "outputs": [],
   "source": []
  }
 ],
 "metadata": {
  "kernelspec": {
   "display_name": "Python 3",
   "language": "python",
   "name": "python3"
  },
  "language_info": {
   "codemirror_mode": {
    "name": "ipython",
    "version": 3
   },
   "file_extension": ".py",
   "mimetype": "text/x-python",
   "name": "python",
   "nbconvert_exporter": "python",
   "pygments_lexer": "ipython3",
   "version": "3.7.3"
  }
 },
 "nbformat": 4,
 "nbformat_minor": 5
}
