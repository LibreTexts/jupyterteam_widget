{
 "cells": [
  {
   "cell_type": "code",
   "execution_count": 1,
   "id": "fc2324c1",
   "metadata": {},
   "outputs": [],
   "source": [
    "import jupyterteam_widget"
   ]
  },
  {
   "cell_type": "code",
   "execution_count": 2,
   "id": "39685eb9",
   "metadata": {},
   "outputs": [
    {
     "data": {
      "application/vnd.jupyter.widget-view+json": {
       "model_id": "499570248d554e53bb4f1844855c8a22",
       "version_major": 2,
       "version_minor": 0
      },
      "text/plain": [
       "HermiteWidget(value=7)"
      ]
     },
     "metadata": {},
     "output_type": "display_data"
    }
   ],
   "source": [
    "w = jupyterteam_widget.HermiteWidget(value = 7)\n",
    "w"
   ]
  },
  {
   "cell_type": "code",
   "execution_count": null,
   "id": "fbbc249b-c77e-4c68-ad2c-eee53b407a9f",
   "metadata": {},
   "outputs": [],
   "source": []
  }
 ],
 "metadata": {
  "kernelspec": {
   "display_name": "Python 3",
   "language": "python",
   "name": "python3"
  },
  "language_info": {
   "codemirror_mode": {
    "name": "ipython",
    "version": 3
   },
   "file_extension": ".py",
   "mimetype": "text/x-python",
   "name": "python",
   "nbconvert_exporter": "python",
   "pygments_lexer": "ipython3",
   "version": "3.9.1"
  }
 },
 "nbformat": 4,
 "nbformat_minor": 5
}
