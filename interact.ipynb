{
 "cells": [
  {
   "cell_type": "code",
   "execution_count": 1,
   "id": "fc2324c1",
   "metadata": {},
   "outputs": [],
   "source": [
    "from jupyterteam_widget import HermiteWidget\n",
    "import ipywidgets as widgets\n",
    "from ipywidgets import interact, interactive, fixed, interact_manual, IntSlider\n",
    "from traitlets import observe"
   ]
  },
  {
   "cell_type": "code",
   "execution_count": 2,
   "id": "39685eb9",
   "metadata": {
    "scrolled": false
   },
   "outputs": [],
   "source": [
    "w = HermiteWidget()"
   ]
  },
  {
   "cell_type": "code",
   "execution_count": 3,
   "id": "6088a5cf",
   "metadata": {},
   "outputs": [],
   "source": [
    "def f(x):\n",
    "    w.value = x"
   ]
  },
  {
   "cell_type": "code",
   "execution_count": 4,
   "id": "f432b08f",
   "metadata": {},
   "outputs": [
    {
     "data": {
      "application/vnd.jupyter.widget-view+json": {
       "model_id": "5d48bcdc852b4167be0377e3fbf06f12",
       "version_major": 2,
       "version_minor": 0
      },
      "text/plain": [
       "interactive(children=(IntSlider(value=5, description='x', max=15, min=-5), Output()), _dom_classes=('widget-in…"
      ]
     },
     "metadata": {},
     "output_type": "display_data"
    },
    {
     "data": {
      "application/vnd.jupyter.widget-view+json": {
       "model_id": "dbb057ec24744f4a872bd4d83ae36628",
       "version_major": 2,
       "version_minor": 0
      },
      "text/plain": [
       "HermiteWidget(value=5, polystring='H5 (x) = 32.0x^5 + -160.0x^3 + 120.0x', psi_ndmn=[[-5.0, -4.98998998998999,…"
      ]
     },
     "metadata": {},
     "output_type": "display_data"
    }
   ],
   "source": [
    "interact(f, x=5)\n",
    "w"
   ]
  },
  {
   "cell_type": "code",
   "execution_count": 5,
   "id": "03ff17a4",
   "metadata": {},
   "outputs": [],
   "source": [
    "# begin code for our interact() function below"
   ]
  },
  {
   "cell_type": "code",
   "execution_count": null,
   "id": "1087e324",
   "metadata": {},
   "outputs": [],
   "source": []
  },
  {
   "cell_type": "code",
   "execution_count": null,
   "id": "1a3bb93f",
   "metadata": {},
   "outputs": [],
   "source": []
  },
  {
   "cell_type": "code",
   "execution_count": null,
   "id": "f6bdb83f",
   "metadata": {},
   "outputs": [],
   "source": []
  }
 ],
 "metadata": {
  "kernelspec": {
   "display_name": "Python 3",
   "language": "python",
   "name": "python3"
  },
  "language_info": {
   "codemirror_mode": {
    "name": "ipython",
    "version": 3
   },
   "file_extension": ".py",
   "mimetype": "text/x-python",
   "name": "python",
   "nbconvert_exporter": "python",
   "pygments_lexer": "ipython3",
   "version": "3.9.5"
  }
 },
 "nbformat": 4,
 "nbformat_minor": 5
}
