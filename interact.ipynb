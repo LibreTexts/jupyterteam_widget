{
 "cells": [
  {
   "cell_type": "code",
   "execution_count": 23,
   "id": "fc2324c1",
   "metadata": {},
   "outputs": [],
   "source": [
    "from jupyterteam_widget import HermiteWidget\n",
    "import ipywidgets as widgets\n",
    "from ipywidgets import interact, interactive, fixed, interact_manual, IntSlider, Output\n",
    "from traitlets import observe"
   ]
  },
  {
   "cell_type": "code",
   "execution_count": 24,
   "id": "39685eb9",
   "metadata": {
    "scrolled": false
   },
   "outputs": [
    {
     "data": {
      "application/vnd.jupyter.widget-view+json": {
       "model_id": "af8b89563ba54759a243547134dfede9",
       "version_major": 2,
       "version_minor": 0
      },
      "text/plain": [
       "HermiteWidget(value=4, plot_data=[[-2.5, -2.494994994994995, -2.48998998998999, -2.484984984984985, -2.4799799…"
      ]
     },
     "metadata": {},
     "output_type": "display_data"
    }
   ],
   "source": [
    "w = HermiteWidget(value=4)\n",
    "w"
   ]
  },
  {
   "cell_type": "code",
   "execution_count": 25,
   "id": "6088a5cf",
   "metadata": {},
   "outputs": [],
   "source": [
    "def f(x):\n",
    "    w.value = x"
   ]
  },
  {
   "cell_type": "code",
   "execution_count": 26,
   "id": "f432b08f",
   "metadata": {},
   "outputs": [
    {
     "data": {
      "application/vnd.jupyter.widget-view+json": {
       "model_id": "69271c99b90c4c4ab6d513e8cd4a339b",
       "version_major": 2,
       "version_minor": 0
      },
      "text/plain": [
       "interactive(children=(IntSlider(value=5, description='x', max=10), Output()), _dom_classes=('widget-interact',…"
      ]
     },
     "metadata": {},
     "output_type": "display_data"
    }
   ],
   "source": [
    "intw = interact(f, x=IntSlider(min=0,max=10,value=5))"
   ]
  },
  {
   "cell_type": "code",
   "execution_count": 27,
   "id": "03ff17a4",
   "metadata": {},
   "outputs": [],
   "source": [
    "# begin code for our interact() function below\n",
    "# when the value of intslide changes, func needs to be updated with that value"
   ]
  },
  {
   "cell_type": "code",
   "execution_count": 28,
   "id": "1087e324",
   "metadata": {},
   "outputs": [],
   "source": [
    "def myInteract(func):\n",
    "    out = Output()\n",
    "    out.clear_output(wait=True)\n",
    "    \n",
    "    intSlide = IntSlider(min=0,max=10,value=5)\n",
    "    func = intSlide.observe(update(func,intSlide), names='value')\n",
    "    \n",
    "    with out:\n",
    "        display(intSlide)\n",
    "        display(func)\n",
    "        \n",
    "    return out\n",
    "\n",
    "def update(func, slider):\n",
    "    v = slider.value\n",
    "    updated = func(value=v)\n",
    "    return updated"
   ]
  },
  {
   "cell_type": "markdown",
   "id": "3da70c57",
   "metadata": {},
   "source": [
    "myInteract(w)"
   ]
  },
  {
   "cell_type": "code",
   "execution_count": 33,
   "id": "f6bdb83f",
   "metadata": {},
   "outputs": [
    {
     "data": {
      "application/vnd.jupyter.widget-view+json": {
       "model_id": "ea356a6f792241dd8845e1c9847efc91",
       "version_major": 2,
       "version_minor": 0
      },
      "text/plain": [
       "Output()"
      ]
     },
     "metadata": {},
     "output_type": "display_data"
    }
   ],
   "source": [
    "myInteract(HermiteWidget)"
   ]
  },
  {
   "cell_type": "code",
   "execution_count": null,
   "id": "148b7f38",
   "metadata": {},
   "outputs": [],
   "source": []
  },
  {
   "cell_type": "code",
   "execution_count": null,
   "id": "701ab7db",
   "metadata": {},
   "outputs": [],
   "source": []
  },
  {
   "cell_type": "code",
   "execution_count": null,
   "id": "8ff50ca2",
   "metadata": {},
   "outputs": [],
   "source": []
  }
 ],
 "metadata": {
  "kernelspec": {
   "display_name": "Python 3",
   "language": "python",
   "name": "python3"
  },
  "language_info": {
   "codemirror_mode": {
    "name": "ipython",
    "version": 3
   },
   "file_extension": ".py",
   "mimetype": "text/x-python",
   "name": "python",
   "nbconvert_exporter": "python",
   "pygments_lexer": "ipython3",
   "version": "3.9.5"
  }
 },
 "nbformat": 4,
 "nbformat_minor": 5
}
