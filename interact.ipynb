{
 "cells": [
  {
   "cell_type": "code",
   "execution_count": null,
   "id": "fc2324c1",
   "metadata": {},
   "outputs": [],
   "source": [
    "from jupyterteam_widget import HermiteWidget\n",
    "import ipywidgets as widgets\n",
    "from ipywidgets import interact, interactive, fixed, interact_manual, IntSlider, Output\n",
    "from traitlets import observe"
   ]
  },
  {
   "cell_type": "code",
   "execution_count": null,
   "id": "39685eb9",
   "metadata": {
    "scrolled": false
   },
   "outputs": [],
   "source": [
    "w = HermiteWidget()"
   ]
  },
  {
   "cell_type": "code",
   "execution_count": null,
   "id": "6088a5cf",
   "metadata": {},
   "outputs": [],
   "source": [
    "def f(x):\n",
    "    w.value = x"
   ]
  },
  {
   "cell_type": "code",
   "execution_count": null,
   "id": "f432b08f",
   "metadata": {},
   "outputs": [],
   "source": [
    "intw = interact(f, x=IntSlider(min=0,max=10,value=5))"
   ]
  },
  {
   "cell_type": "code",
   "execution_count": null,
   "id": "03ff17a4",
   "metadata": {},
   "outputs": [],
   "source": [
    "# begin code for our interact() function below"
   ]
  },
  {
   "cell_type": "code",
   "execution_count": null,
   "id": "1087e324",
   "metadata": {},
   "outputs": [],
   "source": [
    "def myInteract(func):\n",
    "    out = Output()\n",
    "    with out:\n",
    "        display(IntSlider(min=0,max=10,value=5))\n",
    "        display(func)\n",
    "    return out"
   ]
  },
  {
   "cell_type": "markdown",
   "id": "3da70c57",
   "metadata": {},
   "source": [
    "myInteract(w)"
   ]
  },
  {
   "cell_type": "code",
   "execution_count": null,
   "id": "f6bdb83f",
   "metadata": {},
   "outputs": [],
   "source": [
    "myInteract(w)"
   ]
  },
  {
   "cell_type": "code",
   "execution_count": null,
   "id": "148b7f38",
   "metadata": {},
   "outputs": [],
   "source": []
  },
  {
   "cell_type": "code",
   "execution_count": null,
   "id": "701ab7db",
   "metadata": {},
   "outputs": [],
   "source": []
  },
  {
   "cell_type": "code",
   "execution_count": null,
   "id": "8ff50ca2",
   "metadata": {},
   "outputs": [],
   "source": []
  }
 ],
 "metadata": {
  "kernelspec": {
   "display_name": "Python 3",
   "language": "python",
   "name": "python3"
  },
  "language_info": {
   "codemirror_mode": {
    "name": "ipython",
    "version": 3
   },
   "file_extension": ".py",
   "mimetype": "text/x-python",
   "name": "python",
   "nbconvert_exporter": "python",
   "pygments_lexer": "ipython3",
   "version": "3.9.5"
  }
 },
 "nbformat": 4,
 "nbformat_minor": 5
}
